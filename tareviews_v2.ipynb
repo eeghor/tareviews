{
 "cells": [
  {
   "cell_type": "code",
   "execution_count": 1,
   "metadata": {},
   "outputs": [],
   "source": [
    "from selenium import webdriver\n",
    "from selenium.webdriver.support.ui import WebDriverWait\n",
    "from selenium.webdriver.support import expected_conditions as EC\n",
    "from selenium.webdriver.common.by import By\n",
    "from selenium.webdriver.common.keys import Keys\n",
    "from selenium.webdriver.common.action_chains import ActionChains\n",
    "\n",
    "from collections import defaultdict\n",
    "import re\n",
    "import json\n",
    "import os\n",
    "import time\n",
    "import arrow\n",
    "import random\n",
    "\n",
    "import numpy as np\n",
    "\n",
    "import subprocess\n",
    "import zipfile\n",
    "\n",
    "from attraction import Attraction\n",
    "from review import Review\n",
    "from user import User"
   ]
  },
  {
   "cell_type": "code",
   "execution_count": 2,
   "metadata": {},
   "outputs": [],
   "source": [
    "options = webdriver.ChromeOptions()\n",
    "options.add_argument('--ignore-certificate-errors')\n",
    "options.add_argument('--ignore-ssl-errors')\n",
    "options.add_argument('--incognito')\n",
    "options.add_argument('--start-maximized')\n",
    "prefs = {\"profile.default_content_setting_values.notifications\" : 2}\n",
    "options.add_experimental_option(\"prefs\",prefs)\n",
    "\n",
    "# if headless:\n",
    "#     options.add_argument('--headless')"
   ]
  },
  {
   "cell_type": "code",
   "execution_count": 26,
   "metadata": {},
   "outputs": [],
   "source": [
    "driver = webdriver.Chrome('webdriver/chromedriver', options=options)\n",
    "\n",
    "driver.get('https://www.tripadvisor.com.au/Attraction_Review-g255060-d257278-Reviews-Sydney_Opera_House-Sydney_New_South_Wales.html')"
   ]
  },
  {
   "cell_type": "code",
   "execution_count": 51,
   "metadata": {},
   "outputs": [],
   "source": [
    "def tick_checkbox_item(item_name='Solo', max_attempts=3):\n",
    "    \n",
    "    times_tried = 0\n",
    "    is_selected = False\n",
    "    \n",
    "    while (times_tried <= max_attempts) and (not is_selected):\n",
    "        \n",
    "        times_tried += 1\n",
    "        \n",
    "        try:\n",
    "            WebDriverWait(driver, 10) \\\n",
    "                .until(EC.element_to_be_clickable((By.CSS_SELECTOR, \n",
    "                                               f'div[data-tracker=\"{item_name}\"]'))).click()\n",
    "        except:\n",
    "            \n",
    "            print(f'failed to click on {item_name} filter..')\n",
    "\n",
    "        try:\n",
    "            \n",
    "            WebDriverWait(driver, 10) \\\n",
    "                .until(EC.presence_of_element_located((By.CSS_SELECTOR, \n",
    "                                                   'input#filters_detail_checkbox_filterSegment__5[checked=\"checked\"]')))\n",
    "            is_selected = True\n",
    "            \n",
    "        except:\n",
    "            \n",
    "            print(f'failed to select {item_name}, re-trying...')\n",
    "            \n",
    "    if is_selected: \n",
    "        \n",
    "        nrevs = 0\n",
    "        \n",
    "        try:\n",
    "            \n",
    "            WebDriverWait(driver, 10) \\\n",
    "                .until(EC.presence_of_element_located((By.CSS_SELECTOR, \n",
    "                                                   'input#filters_detail_language_filterLang_en[checked=\"checked\"]')))\n",
    "            \n",
    "            nrevs = int(re.sub(r'[(,)]', '', driver.find_element_by_css_selector('label[for=\"filters_detail_language_filterLang_en\"]>span.count').text))\n",
    "            \n",
    "            print(f'available reviews by {item_name} travellers: {nrevs:,}')\n",
    "            \n",
    "        except:\n",
    "            \n",
    "            langs = [_ for _ in driver.find_element_by_css_selector('div[data-prwidget-name=\"filters_detail_language\"]').text.split('\\n') if '(' in _]\n",
    "            \n",
    "            print(f'no English {item_name} reviews?')\n",
    "            \n",
    "            if langs:\n",
    "                print(f'available review languages: {\" | \".join(langs)}')\n",
    "            else:\n",
    "                print('there are no reviews in any language')          "
   ]
  },
  {
   "cell_type": "code",
   "execution_count": 52,
   "metadata": {},
   "outputs": [
    {
     "name": "stdout",
     "output_type": "stream",
     "text": [
      "available reviews by Solo travellers: 1,717\n"
     ]
    }
   ],
   "source": [
    "tick_checkbox_item()"
   ]
  }
 ],
 "metadata": {
  "kernelspec": {
   "display_name": "Python 3",
   "language": "python",
   "name": "python3"
  },
  "language_info": {
   "codemirror_mode": {
    "name": "ipython",
    "version": 3
   },
   "file_extension": ".py",
   "mimetype": "text/x-python",
   "name": "python",
   "nbconvert_exporter": "python",
   "pygments_lexer": "ipython3",
   "version": "3.7.3"
  }
 },
 "nbformat": 4,
 "nbformat_minor": 4
}
