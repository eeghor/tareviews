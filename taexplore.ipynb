{
 "cells": [
  {
   "cell_type": "code",
   "execution_count": 1,
   "metadata": {},
   "outputs": [],
   "source": [
    "import json\n",
    "import pandas as pd\n",
    "from pprint import pprint\n",
    "from collections import Counter, defaultdict\n",
    "from itertools import chain\n",
    "import re\n",
    "\n",
    "import arrow \n",
    "\n",
    "import googlemaps\n",
    "\n",
    "from plotly import __version__\n",
    "from plotly.offline import download_plotlyjs, init_notebook_mode, plot, iplot\n",
    "import plotly.figure_factory as ff\n",
    "import plotly.graph_objs as go\n",
    "\n",
    "import cufflinks as cf\n",
    "\n",
    "import spacy\n",
    "import scattertext as st\n",
    "from scattertext import word_similarity_explorer\n",
    "\n",
    "from gender import GenderDetector"
   ]
  },
  {
   "cell_type": "code",
   "execution_count": 2,
   "metadata": {},
   "outputs": [],
   "source": [
    "nlp = spacy.load('en')"
   ]
  },
  {
   "cell_type": "code",
   "execution_count": 3,
   "metadata": {},
   "outputs": [
    {
     "data": {
      "text/html": [
       "<script type=\"text/javascript\">window.PlotlyConfig = {MathJaxConfig: 'local'};</script><script type=\"text/javascript\">if (window.MathJax) {MathJax.Hub.Config({SVG: {font: \"STIX-Web\"}});}</script><script>requirejs.config({paths: { 'plotly': ['https://cdn.plot.ly/plotly-latest.min']},});if(!window._Plotly) {require(['plotly'],function(plotly) {window._Plotly=plotly;});}</script>"
      ],
      "text/vnd.plotly.v1+html": [
       "<script type=\"text/javascript\">window.PlotlyConfig = {MathJaxConfig: 'local'};</script><script type=\"text/javascript\">if (window.MathJax) {MathJax.Hub.Config({SVG: {font: \"STIX-Web\"}});}</script><script>requirejs.config({paths: { 'plotly': ['https://cdn.plot.ly/plotly-latest.min']},});if(!window._Plotly) {require(['plotly'],function(plotly) {window._Plotly=plotly;});}</script>"
      ]
     },
     "metadata": {},
     "output_type": "display_data"
    }
   ],
   "source": [
    "init_notebook_mode(connected=True)"
   ]
  },
  {
   "cell_type": "code",
   "execution_count": 4,
   "metadata": {},
   "outputs": [],
   "source": [
    "class T:\n",
    "    \n",
    "    def __init__(self):\n",
    "\n",
    "        self.r = json.load(open('data/reviews_brisbane.json'))\n",
    "        self.u = json.load(open('data/users_brisbane.json'))\n",
    "        self.a = json.load(open('data/attractions_brisbane.json'))\n",
    "        \n",
    "        # some stats\n",
    "        review_ids = set()\n",
    "        attr_ids = set()\n",
    "        user_names = set()\n",
    "        dates_exp = set()\n",
    "        \n",
    "        for r in self.r:\n",
    "            \n",
    "            review_ids.add(r['id'])\n",
    "            attr_ids.add(r['attr_id'])\n",
    "            user_names.add(r['by_user'])\n",
    "            \n",
    "            if r['date_of_experience']:\n",
    "                dates_exp.add(arrow.get(r['date_of_experience'], 'MM/YYYY'))\n",
    "        \n",
    "        self.user_stats = defaultdict(list)\n",
    "        \n",
    "        for u in self.u:\n",
    "            for attr in 'tags age gender name'.split():   \n",
    "                if u[attr]:\n",
    "                    self.user_stats[attr].append(u[attr])\n",
    "                \n",
    "        print('data: {:,} reviews for {:,} attractions by {:,} users\\nreviews written between {} and {}' \\\n",
    "                  .format(len(review_ids), len(attr_ids), len(user_names), \n",
    "                          min(dates_exp).format(\"MMM, YYYY\"), max(dates_exp).format(\"MMM, YYYY\")))\n",
    "        \n",
    "        for attr in 'tags age gender'.split():\n",
    "            print('users with {}: {:,} ({:.1f})%'.format(attr, len(self.user_stats[attr]), \n",
    "                                                           100*len(self.user_stats[attr])/len(self.user_stats[\"name\"])))\n",
    "\n",
    "        # convert everything to pandas\n",
    "        \n",
    "        self.u_df = pd.DataFrame(self.u).dropna(subset=['name'])\n",
    "        self.r_df = pd.DataFrame(self.r).dropna(subset=['attr_id'])\n",
    "              \n",
    "        self.u_all_tags = [tg for tg in chain.from_iterable(self.u_df['tags'])]\n",
    "        self.tag_cols = list(set(self.u_all_tags))\n",
    "              \n",
    "        self.gmaps = googlemaps.Client(key=open('creds/geocoding_api.key').readline().strip())\n",
    "        \n",
    "        self.gd = GenderDetector()\n",
    "        \n",
    "    def _tags_to_cols(self, tag_list):\n",
    "        \n",
    "        if not tag_list:\n",
    "            return [None]*len(self.tag_cols)\n",
    "        \n",
    "        return ['yes' if tag in tag_list else 'no' for tag in self.tag_cols]\n",
    "    \n",
    "    def tags_to_cols(self):\n",
    "        \n",
    "        self.u_df = pd.concat([self.u_df, \n",
    "                            pd.DataFrame(self.u_df['tags'].apply(self._tags_to_cols).to_list(), \n",
    "                                         columns=self.tag_cols)], axis=1).drop('tags', axis=1)\n",
    "        \n",
    "        return self\n",
    "\n",
    "              \n",
    "    def _fix_location(self, s):\n",
    "              \n",
    "        \"\"\"\n",
    "        using Google Geocoding API to clarify users location\n",
    "        \"\"\"\n",
    "        \n",
    "        loc = dict()\n",
    "        \n",
    "        if not (isinstance(s, str) and s.strip()):\n",
    "            return loc\n",
    "        \n",
    "        geocode_result = self.gmaps.geocode(s)\n",
    "        \n",
    "        # take only the top result\n",
    "        if geocode_result:\n",
    "            res = geocode_result[0]\n",
    "        else:\n",
    "            print(f'geocoding api can\\'t find this location: {s}!')\n",
    "            return loc\n",
    "\n",
    "        try:\n",
    "            loc = {'location': res['formatted_address'],\n",
    "                   'coordinates': res['geometry']['location'],\n",
    "                   'locality': ''.join([_['long_name'] for _ in res['address_components'] if 'locality' in _['types']]),\n",
    "                   'country': ''.join([_['long_name'] for _ in res['address_components'] if 'country' in _['types']])}\n",
    "        except:\n",
    "            print('locationd fields couldn\\'t be retrieved from geocoding result!')\n",
    "              \n",
    "        return loc\n",
    "    \n",
    "    def impute_location(self):\n",
    "        \n",
    "        localities = []\n",
    "        countries = []\n",
    "        \n",
    "        for row in self.u_df.iterrows():\n",
    "            \n",
    "            r = self._fix_location(row[1].location) \n",
    "            \n",
    "            if 'country' in r:\n",
    "                countries.append(r['country'])\n",
    "            elif 'australia' in set(row[1].location.lower().split()):\n",
    "                countries.append('australia')\n",
    "            elif 'england' in set(row[1].location.lower().split()):\n",
    "                countries.append('united kingdom')\n",
    "            else:\n",
    "                countries.append(None)\n",
    "            if 'locality' in r:\n",
    "                localities.append(r['locality'])\n",
    "            else:\n",
    "                localities.append(None)\n",
    "        \n",
    "        self.u_df['locality'] = localities\n",
    "        self.u_df['country'] = countries\n",
    "        \n",
    "        return self\n",
    "    \n",
    "    def _impute_gender(self, s):\n",
    "        \n",
    "        # separate nicknames like TrevorJ into trevor J; or Mike23 into Mike 23\n",
    "        s = re.sub(r'([a-z]{1})([A-Z0-9]+)', r'\\1 \\2', s)\n",
    "        \n",
    "        return self.gd.gender(s)\n",
    "    \n",
    "    def impute_gender(self):\n",
    "        \n",
    "        self.u_df['gender'] = self.u_df['gender'] \\\n",
    "                                .apply(lambda s: s if str(s) in 'm f'.split() else self._impute_gender(str(s)))\n",
    "        return self\n",
    "    \n",
    "    def merge_data(self):\n",
    "        \n",
    "        self.data = self.r_df.join(self.u_df.set_index('name'), on='by_user', how='inner')\n",
    "        self.data.to_csv('data/brisb.csv', index=False)\n",
    "        \n",
    "        return self\n",
    "    \n",
    "    def selector(self, dk):\n",
    "\n",
    "        if not (set(dk) <= set(t.data.columns)):\n",
    "            print('wrong segments!')\n",
    "            raise Exception()\n",
    "        \n",
    "        out = t.data\n",
    "    \n",
    "        for k in dk:\n",
    "            out = out[out[k] == dk[k]]\n",
    "        \n",
    "        if not out.empty:\n",
    "            return out\n",
    "        else:\n",
    "            print('empty result!')\n",
    "            raise Exception()"
   ]
  },
  {
   "cell_type": "code",
   "execution_count": 5,
   "metadata": {},
   "outputs": [
    {
     "name": "stdout",
     "output_type": "stream",
     "text": [
      "data: 21,564 reviews for 6 attractions by 15,166 users\n",
      "reviews written between Apr, 2010 and Feb, 2019\n",
      "users with tags: 3,064 (20.2)%\n",
      "users with age: 5,240 (34.6)%\n",
      "users with gender: 5,097 (33.6)%\n"
     ]
    }
   ],
   "source": [
    "if __name__ == '__main__':\n",
    "    \n",
    "    t = T().tags_to_cols().merge_data()"
   ]
  },
  {
   "cell_type": "code",
   "execution_count": 6,
   "metadata": {},
   "outputs": [],
   "source": [
    "docs = [nlp(review) for review in t.data.text.tolist()]"
   ]
  },
  {
   "cell_type": "code",
   "execution_count": 7,
   "metadata": {},
   "outputs": [],
   "source": [
    "ents = [d.ents for d in docs]"
   ]
  },
  {
   "cell_type": "code",
   "execution_count": 9,
   "metadata": {},
   "outputs": [
    {
     "data": {
      "text/plain": [
       "[(Southbank, Koala, 20),\n",
       " (dusk,),\n",
       " (Koala, Koalas, hundred),\n",
       " (Australian,),\n",
       " (Koala,),\n",
       " (),\n",
       " (Brisbane,),\n",
       " (22 years ago, one, one),\n",
       " (),\n",
       " (CBD, Australian, Kangaroo, the afternoon, The Sheep Dog Show),\n",
       " (the Brisbane River,),\n",
       " (about 7 miles,\n",
       "  Brisbane,\n",
       "  first,\n",
       "  1927,\n",
       "  130,\n",
       "  100,\n",
       "  Australian,\n",
       "  about $20,\n",
       "  US,\n",
       "  early in the morning,\n",
       "  up to 30 minutes,\n",
       "  Tasmanian Devil,\n",
       "  early in the morning,\n",
       "  daily 9am to 5pm)]"
      ]
     },
     "execution_count": 9,
     "metadata": {},
     "output_type": "execute_result"
    }
   ],
   "source": [
    "ents[:12]"
   ]
  },
  {
   "cell_type": "code",
   "execution_count": 18,
   "metadata": {},
   "outputs": [
    {
     "name": "stdout",
     "output_type": "stream",
     "text": [
      "<spacy.vocab.Vocab object at 0x11b9c69c8>\n",
      "['_', '__bytes__', '__class__', '__delattr__', '__dir__', '__doc__', '__eq__', '__format__', '__ge__', '__getattribute__', '__getitem__', '__gt__', '__hash__', '__init__', '__init_subclass__', '__iter__', '__le__', '__len__', '__lt__', '__ne__', '__new__', '__pyx_vtable__', '__reduce__', '__reduce_ex__', '__repr__', '__setattr__', '__setstate__', '__sizeof__', '__str__', '__subclasshook__', '__unicode__', '_bulk_merge', '_py_tokens', '_realloc', '_vector', '_vector_norm', 'cats', 'char_span', 'count_by', 'doc', 'ents', 'extend_tensor', 'from_array', 'from_bytes', 'from_disk', 'get_extension', 'get_lca_matrix', 'has_extension', 'has_vector', 'is_parsed', 'is_sentenced', 'is_tagged', 'mem', 'merge', 'noun_chunks', 'noun_chunks_iterator', 'print_tree', 'remove_extension', 'retokenize', 'sentiment', 'sents', 'set_extension', 'similarity', 'tensor', 'text', 'text_with_ws', 'to_array', 'to_bytes', 'to_disk', 'user_data', 'user_hooks', 'user_span_hooks', 'user_token_hooks', 'vector', 'vector_norm', 'vocab']\n",
      "Easy access by bus, or a boat which leaves from Southbank. Great educational place for the kids and a lovely relaxing visit for t h e family. Visitors will learn a lot here about our native animals. Even hold a Koala for I think $20. Well shaded, bathroom facilities available as well as an eating area. Well designed.\n",
      "(Southbank, Koala, 20)\n",
      "['ORG', 'PERSON', 'MONEY']\n"
     ]
    }
   ],
   "source": [
    "for d in docs:\n",
    "    print(d.vocab)\n",
    "    print(dir(d))\n",
    "    print(d.text)\n",
    "    print(d.ents)\n",
    "    print([e.label_ for e in d.ents])\n",
    "    break"
   ]
  },
  {
   "cell_type": "code",
   "execution_count": null,
   "metadata": {},
   "outputs": [],
   "source": [
    "# NER separately\n",
    "from spacy.pipeline import EntityRecognizer"
   ]
  },
  {
   "cell_type": "code",
   "execution_count": 6,
   "metadata": {},
   "outputs": [
    {
     "data": {
      "text/html": [
       "<div>\n",
       "<style scoped>\n",
       "    .dataframe tbody tr th:only-of-type {\n",
       "        vertical-align: middle;\n",
       "    }\n",
       "\n",
       "    .dataframe tbody tr th {\n",
       "        vertical-align: top;\n",
       "    }\n",
       "\n",
       "    .dataframe thead th {\n",
       "        text-align: right;\n",
       "    }\n",
       "</style>\n",
       "<table border=\"1\" class=\"dataframe\">\n",
       "  <thead>\n",
       "    <tr style=\"text-align: right;\">\n",
       "      <th></th>\n",
       "      <th>attr_id</th>\n",
       "      <th>by_user</th>\n",
       "      <th>date_of_experience</th>\n",
       "      <th>date_of_writing</th>\n",
       "      <th>id</th>\n",
       "      <th>rating</th>\n",
       "      <th>text</th>\n",
       "      <th>title</th>\n",
       "      <th>age</th>\n",
       "      <th>gender</th>\n",
       "      <th>...</th>\n",
       "      <th>60+ traveller</th>\n",
       "      <th>luxury traveller</th>\n",
       "      <th>art and architecture lover</th>\n",
       "      <th>thrifty traveller</th>\n",
       "      <th>family holiday maker</th>\n",
       "      <th>like a local</th>\n",
       "      <th>history buff</th>\n",
       "      <th>beach goer</th>\n",
       "      <th>urban explorer</th>\n",
       "      <th>vegetarian</th>\n",
       "    </tr>\n",
       "  </thead>\n",
       "  <tbody>\n",
       "    <tr>\n",
       "      <th>0</th>\n",
       "      <td>d256511</td>\n",
       "      <td>Gilliebean63</td>\n",
       "      <td>07/2018</td>\n",
       "      <td>13/02/2019</td>\n",
       "      <td>651830536</td>\n",
       "      <td>5.0</td>\n",
       "      <td>Easy access by bus, or a boat which leaves fro...</td>\n",
       "      <td>Koala's and kangaroos</td>\n",
       "      <td>None</td>\n",
       "      <td>None</td>\n",
       "      <td>...</td>\n",
       "      <td>None</td>\n",
       "      <td>None</td>\n",
       "      <td>None</td>\n",
       "      <td>None</td>\n",
       "      <td>None</td>\n",
       "      <td>None</td>\n",
       "      <td>None</td>\n",
       "      <td>None</td>\n",
       "      <td>None</td>\n",
       "      <td>None</td>\n",
       "    </tr>\n",
       "    <tr>\n",
       "      <th>12486</th>\n",
       "      <td>d1206454</td>\n",
       "      <td>Gilliebean63</td>\n",
       "      <td>11/2018</td>\n",
       "      <td>13/02/2019</td>\n",
       "      <td>651832420</td>\n",
       "      <td>5.0</td>\n",
       "      <td>Great place to take visitors to our fair city....</td>\n",
       "      <td>Brisbane ity views</td>\n",
       "      <td>None</td>\n",
       "      <td>None</td>\n",
       "      <td>...</td>\n",
       "      <td>None</td>\n",
       "      <td>None</td>\n",
       "      <td>None</td>\n",
       "      <td>None</td>\n",
       "      <td>None</td>\n",
       "      <td>None</td>\n",
       "      <td>None</td>\n",
       "      <td>None</td>\n",
       "      <td>None</td>\n",
       "      <td>None</td>\n",
       "    </tr>\n",
       "    <tr>\n",
       "      <th>1</th>\n",
       "      <td>d256511</td>\n",
       "      <td>Rob I</td>\n",
       "      <td>02/2019</td>\n",
       "      <td>13/02/2019</td>\n",
       "      <td>651820141</td>\n",
       "      <td>4.0</td>\n",
       "      <td>This is a nice little place to visit and the s...</td>\n",
       "      <td>Nice place but poor Koalas</td>\n",
       "      <td>50-64</td>\n",
       "      <td>m</td>\n",
       "      <td>...</td>\n",
       "      <td>no</td>\n",
       "      <td>yes</td>\n",
       "      <td>no</td>\n",
       "      <td>no</td>\n",
       "      <td>no</td>\n",
       "      <td>no</td>\n",
       "      <td>yes</td>\n",
       "      <td>no</td>\n",
       "      <td>no</td>\n",
       "      <td>no</td>\n",
       "    </tr>\n",
       "    <tr>\n",
       "      <th>2</th>\n",
       "      <td>d256511</td>\n",
       "      <td>Julio974T</td>\n",
       "      <td>01/2019</td>\n",
       "      <td>13/02/2019</td>\n",
       "      <td>651817806</td>\n",
       "      <td>5.0</td>\n",
       "      <td>Great park-zoo with all the Australian animals...</td>\n",
       "      <td>Australian fauna close the city</td>\n",
       "      <td>None</td>\n",
       "      <td>None</td>\n",
       "      <td>...</td>\n",
       "      <td>None</td>\n",
       "      <td>None</td>\n",
       "      <td>None</td>\n",
       "      <td>None</td>\n",
       "      <td>None</td>\n",
       "      <td>None</td>\n",
       "      <td>None</td>\n",
       "      <td>None</td>\n",
       "      <td>None</td>\n",
       "      <td>None</td>\n",
       "    </tr>\n",
       "    <tr>\n",
       "      <th>3</th>\n",
       "      <td>d256511</td>\n",
       "      <td>PooleCollectors</td>\n",
       "      <td>09/2018</td>\n",
       "      <td>13/02/2019</td>\n",
       "      <td>651758533</td>\n",
       "      <td>5.0</td>\n",
       "      <td>You can even have your photo taken with a Koal...</td>\n",
       "      <td>Wonderful caring place</td>\n",
       "      <td>None</td>\n",
       "      <td>None</td>\n",
       "      <td>...</td>\n",
       "      <td>None</td>\n",
       "      <td>None</td>\n",
       "      <td>None</td>\n",
       "      <td>None</td>\n",
       "      <td>None</td>\n",
       "      <td>None</td>\n",
       "      <td>None</td>\n",
       "      <td>None</td>\n",
       "      <td>None</td>\n",
       "      <td>None</td>\n",
       "    </tr>\n",
       "  </tbody>\n",
       "</table>\n",
       "<p>5 rows × 30 columns</p>\n",
       "</div>"
      ],
      "text/plain": [
       "        attr_id          by_user date_of_experience date_of_writing  \\\n",
       "0       d256511     Gilliebean63            07/2018      13/02/2019   \n",
       "12486  d1206454     Gilliebean63            11/2018      13/02/2019   \n",
       "1       d256511            Rob I            02/2019      13/02/2019   \n",
       "2       d256511        Julio974T            01/2019      13/02/2019   \n",
       "3       d256511  PooleCollectors            09/2018      13/02/2019   \n",
       "\n",
       "              id  rating                                               text  \\\n",
       "0      651830536     5.0  Easy access by bus, or a boat which leaves fro...   \n",
       "12486  651832420     5.0  Great place to take visitors to our fair city....   \n",
       "1      651820141     4.0  This is a nice little place to visit and the s...   \n",
       "2      651817806     5.0  Great park-zoo with all the Australian animals...   \n",
       "3      651758533     5.0  You can even have your photo taken with a Koal...   \n",
       "\n",
       "                                 title    age gender  ... 60+ traveller  \\\n",
       "0                Koala's and kangaroos   None   None  ...          None   \n",
       "12486               Brisbane ity views   None   None  ...          None   \n",
       "1           Nice place but poor Koalas  50-64      m  ...            no   \n",
       "2      Australian fauna close the city   None   None  ...          None   \n",
       "3               Wonderful caring place   None   None  ...          None   \n",
       "\n",
       "      luxury traveller art and architecture lover thrifty traveller  \\\n",
       "0                 None                       None              None   \n",
       "12486             None                       None              None   \n",
       "1                  yes                         no                no   \n",
       "2                 None                       None              None   \n",
       "3                 None                       None              None   \n",
       "\n",
       "      family holiday maker like a local history buff beach goer  \\\n",
       "0                     None         None         None       None   \n",
       "12486                 None         None         None       None   \n",
       "1                       no           no          yes         no   \n",
       "2                     None         None         None       None   \n",
       "3                     None         None         None       None   \n",
       "\n",
       "      urban explorer vegetarian  \n",
       "0               None       None  \n",
       "12486           None       None  \n",
       "1                 no         no  \n",
       "2               None       None  \n",
       "3               None       None  \n",
       "\n",
       "[5 rows x 30 columns]"
      ]
     },
     "execution_count": 6,
     "metadata": {},
     "output_type": "execute_result"
    }
   ],
   "source": [
    "t.data.head()"
   ]
  },
  {
   "cell_type": "code",
   "execution_count": 127,
   "metadata": {},
   "outputs": [],
   "source": [
    "t.data.to_csv('brisb.csv', index=False)"
   ]
  },
  {
   "cell_type": "code",
   "execution_count": 44,
   "metadata": {},
   "outputs": [
    {
     "data": {
      "text/plain": [
       "Counter({'50-64': 2429,\n",
       "         '35-49': 1688,\n",
       "         '25-34': 910,\n",
       "         '18-24': 202,\n",
       "         '13-17': 11})"
      ]
     },
     "execution_count": 44,
     "metadata": {},
     "output_type": "execute_result"
    }
   ],
   "source": [
    "Counter(t.u_all_ages)"
   ]
  },
  {
   "cell_type": "code",
   "execution_count": 59,
   "metadata": {},
   "outputs": [],
   "source": [
    "seg1 = t.selector({'gender': 'm', 'age': '35-49'})[['title', 'text']]\n",
    "seg2 = t.selector({'gender': 'f', 'age': '50-64'})[['title', 'text']]"
   ]
  },
  {
   "cell_type": "code",
   "execution_count": 60,
   "metadata": {},
   "outputs": [],
   "source": [
    "seg1['segment'] = '1'\n",
    "seg2['segment'] = '2'"
   ]
  },
  {
   "cell_type": "code",
   "execution_count": 61,
   "metadata": {},
   "outputs": [],
   "source": [
    "df = pd.concat([seg1, seg2])"
   ]
  },
  {
   "cell_type": "code",
   "execution_count": 62,
   "metadata": {},
   "outputs": [
    {
     "name": "stdout",
     "output_type": "stream",
     "text": [
      "<class 'pandas.core.frame.DataFrame'>\n",
      "Int64Index: 3046 entries, 16 to 21469\n",
      "Data columns (total 3 columns):\n",
      "title      3046 non-null object\n",
      "text       3046 non-null object\n",
      "segment    3046 non-null object\n",
      "dtypes: object(3)\n",
      "memory usage: 95.2+ KB\n"
     ]
    }
   ],
   "source": [
    "df.info()"
   ]
  },
  {
   "cell_type": "code",
   "execution_count": 63,
   "metadata": {},
   "outputs": [],
   "source": [
    "corpus = st.CorpusFromPandas(df, category_col='segment', text_col='text', nlp=nlp).build()"
   ]
  },
  {
   "cell_type": "code",
   "execution_count": 64,
   "metadata": {},
   "outputs": [],
   "source": [
    "# term frequency data frame; note that terms become index!\n",
    "term_freq_df = corpus.get_term_freq_df()"
   ]
  },
  {
   "cell_type": "code",
   "execution_count": 69,
   "metadata": {},
   "outputs": [
    {
     "name": "stdout",
     "output_type": "stream",
     "text": [
      "         1 freq  2 freq\n",
      "term                   \n",
      "we          487    1348\n",
      "visited      50      81\n",
      "lone        110     149\n",
      "pine        109     148\n",
      "koala       265     367\n"
     ]
    }
   ],
   "source": [
    "print(term_freq_df.head())"
   ]
  },
  {
   "cell_type": "code",
   "execution_count": 73,
   "metadata": {},
   "outputs": [],
   "source": [
    "# get scaled f-scores for each term and place in new column\n",
    "term_freq_df['seg1_score'] = corpus.get_scaled_f_scores('1')\n",
    "term_freq_df['seg2_score'] = corpus.get_scaled_f_scores('2')"
   ]
  },
  {
   "cell_type": "code",
   "execution_count": 74,
   "metadata": {},
   "outputs": [
    {
     "ename": "AttributeError",
     "evalue": "'LazyConfigValue' object has no attribute 'lower'",
     "output_type": "error",
     "traceback": [
      "\u001b[0;31m---------------------------------------------------------------------------\u001b[0m",
      "\u001b[0;31mAttributeError\u001b[0m                            Traceback (most recent call last)",
      "\u001b[0;32m/Library/Frameworks/Python.framework/Versions/3.6/lib/python3.6/site-packages/IPython/core/formatters.py\u001b[0m in \u001b[0;36m__call__\u001b[0;34m(self, obj)\u001b[0m\n\u001b[1;32m    343\u001b[0m             \u001b[0mmethod\u001b[0m \u001b[0;34m=\u001b[0m \u001b[0mget_real_method\u001b[0m\u001b[0;34m(\u001b[0m\u001b[0mobj\u001b[0m\u001b[0;34m,\u001b[0m \u001b[0mself\u001b[0m\u001b[0;34m.\u001b[0m\u001b[0mprint_method\u001b[0m\u001b[0;34m)\u001b[0m\u001b[0;34m\u001b[0m\u001b[0;34m\u001b[0m\u001b[0m\n\u001b[1;32m    344\u001b[0m             \u001b[0;32mif\u001b[0m \u001b[0mmethod\u001b[0m \u001b[0;32mis\u001b[0m \u001b[0;32mnot\u001b[0m \u001b[0;32mNone\u001b[0m\u001b[0;34m:\u001b[0m\u001b[0;34m\u001b[0m\u001b[0;34m\u001b[0m\u001b[0m\n\u001b[0;32m--> 345\u001b[0;31m                 \u001b[0;32mreturn\u001b[0m \u001b[0mmethod\u001b[0m\u001b[0;34m(\u001b[0m\u001b[0;34m)\u001b[0m\u001b[0;34m\u001b[0m\u001b[0;34m\u001b[0m\u001b[0m\n\u001b[0m\u001b[1;32m    346\u001b[0m             \u001b[0;32mreturn\u001b[0m \u001b[0;32mNone\u001b[0m\u001b[0;34m\u001b[0m\u001b[0;34m\u001b[0m\u001b[0m\n\u001b[1;32m    347\u001b[0m         \u001b[0;32melse\u001b[0m\u001b[0;34m:\u001b[0m\u001b[0;34m\u001b[0m\u001b[0;34m\u001b[0m\u001b[0m\n",
      "\u001b[0;32m/Library/Frameworks/Python.framework/Versions/3.6/lib/python3.6/site-packages/pandas/core/frame.py\u001b[0m in \u001b[0;36m_repr_html_\u001b[0;34m(self)\u001b[0m\n\u001b[1;32m    647\u001b[0m         \u001b[0;31m# display HTML, so this check can be removed when support for\u001b[0m\u001b[0;34m\u001b[0m\u001b[0;34m\u001b[0m\u001b[0;34m\u001b[0m\u001b[0m\n\u001b[1;32m    648\u001b[0m         \u001b[0;31m# IPython 2.x is no longer needed.\u001b[0m\u001b[0;34m\u001b[0m\u001b[0;34m\u001b[0m\u001b[0;34m\u001b[0m\u001b[0m\n\u001b[0;32m--> 649\u001b[0;31m         \u001b[0;32mif\u001b[0m \u001b[0mconsole\u001b[0m\u001b[0;34m.\u001b[0m\u001b[0min_qtconsole\u001b[0m\u001b[0;34m(\u001b[0m\u001b[0;34m)\u001b[0m\u001b[0;34m:\u001b[0m\u001b[0;34m\u001b[0m\u001b[0;34m\u001b[0m\u001b[0m\n\u001b[0m\u001b[1;32m    650\u001b[0m             \u001b[0;31m# 'HTML output is disabled in QtConsole'\u001b[0m\u001b[0;34m\u001b[0m\u001b[0;34m\u001b[0m\u001b[0;34m\u001b[0m\u001b[0m\n\u001b[1;32m    651\u001b[0m             \u001b[0;32mreturn\u001b[0m \u001b[0;32mNone\u001b[0m\u001b[0;34m\u001b[0m\u001b[0;34m\u001b[0m\u001b[0m\n",
      "\u001b[0;32m/Library/Frameworks/Python.framework/Versions/3.6/lib/python3.6/site-packages/pandas/io/formats/console.py\u001b[0m in \u001b[0;36min_qtconsole\u001b[0;34m()\u001b[0m\n\u001b[1;32m    121\u001b[0m             \u001b[0mip\u001b[0m\u001b[0;34m.\u001b[0m\u001b[0mconfig\u001b[0m\u001b[0;34m.\u001b[0m\u001b[0mget\u001b[0m\u001b[0;34m(\u001b[0m\u001b[0;34m'KernelApp'\u001b[0m\u001b[0;34m,\u001b[0m \u001b[0;34m{\u001b[0m\u001b[0;34m}\u001b[0m\u001b[0;34m)\u001b[0m\u001b[0;34m.\u001b[0m\u001b[0mget\u001b[0m\u001b[0;34m(\u001b[0m\u001b[0;34m'parent_appname'\u001b[0m\u001b[0;34m,\u001b[0m \u001b[0;34m\"\"\u001b[0m\u001b[0;34m)\u001b[0m \u001b[0;32mor\u001b[0m\u001b[0;34m\u001b[0m\u001b[0;34m\u001b[0m\u001b[0m\n\u001b[1;32m    122\u001b[0m             ip.config.get('IPKernelApp', {}).get('parent_appname', \"\"))\n\u001b[0;32m--> 123\u001b[0;31m         \u001b[0;32mif\u001b[0m \u001b[0;34m'qtconsole'\u001b[0m \u001b[0;32min\u001b[0m \u001b[0mfront_end\u001b[0m\u001b[0;34m.\u001b[0m\u001b[0mlower\u001b[0m\u001b[0;34m(\u001b[0m\u001b[0;34m)\u001b[0m\u001b[0;34m:\u001b[0m\u001b[0;34m\u001b[0m\u001b[0;34m\u001b[0m\u001b[0m\n\u001b[0m\u001b[1;32m    124\u001b[0m             \u001b[0;32mreturn\u001b[0m \u001b[0;32mTrue\u001b[0m\u001b[0;34m\u001b[0m\u001b[0;34m\u001b[0m\u001b[0m\n\u001b[1;32m    125\u001b[0m     \u001b[0;32mexcept\u001b[0m \u001b[0mNameError\u001b[0m\u001b[0;34m:\u001b[0m\u001b[0;34m\u001b[0m\u001b[0;34m\u001b[0m\u001b[0m\n",
      "\u001b[0;31mAttributeError\u001b[0m: 'LazyConfigValue' object has no attribute 'lower'"
     ]
    },
    {
     "data": {
      "text/plain": [
       "         1 freq  2 freq  seg1_score  seg2_score\n",
       "term                                           \n",
       "we          487    1348    0.058948    0.941052\n",
       "visited      50      81    0.884160    0.115840\n",
       "lone        110     149    0.938651    0.061349\n",
       "pine        109     148    0.938323    0.061677\n",
       "koala       265     367    0.935692    0.064308"
      ]
     },
     "execution_count": 74,
     "metadata": {},
     "output_type": "execute_result"
    }
   ],
   "source": [
    "term_freq_df.head()"
   ]
  },
  {
   "cell_type": "code",
   "execution_count": 48,
   "metadata": {},
   "outputs": [],
   "source": [
    "term_freq_df['vegetarians'] = corpus.get_scaled_f_scores('yes')\n",
    "term_freq_df['non-vegetarians'] = corpus.get_scaled_f_scores('no')"
   ]
  },
  {
   "cell_type": "code",
   "execution_count": 83,
   "metadata": {},
   "outputs": [
    {
     "name": "stdout",
     "output_type": "stream",
     "text": [
      "            1 freq  2 freq  seg1_score  seg2_score\n",
      "term                                              \n",
      "this place      60      40    1.000000    0.000000\n",
      "zoo             62      47    0.991748    0.008252\n",
      "kids           122     108    0.989334    0.010666\n",
      "a nice          74      67    0.983243    0.016757\n",
      "most            83      77    0.983050    0.016950\n",
      "the place       48      30    0.978767    0.021233\n",
      "koalas         201     212    0.970127    0.029873\n",
      "cbd             67      68    0.967087    0.032913\n",
      "kangaroo        87      95    0.965207    0.034793\n",
      "lot             52      45    0.962620    0.037380\n"
     ]
    }
   ],
   "source": [
    "# top 10 \n",
    "print(term_freq_df.sort_values(by='seg1_score', ascending=False).iloc[:10])"
   ]
  },
  {
   "cell_type": "code",
   "execution_count": 84,
   "metadata": {},
   "outputs": [
    {
     "name": "stdout",
     "output_type": "stream",
     "text": [
      "           1 freq  2 freq  seg1_score  seg2_score\n",
      "term                                             \n",
      "lovely         45     381    0.000000    1.000000\n",
      "a lovely       22     155    0.007498    0.992502\n",
      "on and         28     139    0.024315    0.975685\n",
      "visitors       53     232    0.026315    0.973685\n",
      "hop            34     153    0.026879    0.973121\n",
      "southbank      34     148    0.029375    0.970625\n",
      "city cat       52     209    0.031320    0.968680\n",
      "and off        14     102    0.031347    0.968653\n",
      "off           100     390    0.033129    0.966871\n",
      "travel         40     155    0.035362    0.964638\n"
     ]
    }
   ],
   "source": [
    "print(term_freq_df.sort_values(by='seg2_score', ascending=False).iloc[:10])"
   ]
  },
  {
   "cell_type": "code",
   "execution_count": 88,
   "metadata": {},
   "outputs": [
    {
     "name": "stderr",
     "output_type": "stream",
     "text": [
      "/Library/Frameworks/Python.framework/Versions/3.6/lib/python3.6/site-packages/scattertext/frequencyreaders/DefaultBackgroundFrequencies.py:30: FutureWarning:\n",
      "\n",
      "read_table is deprecated, use read_csv instead, passing sep='\\t'.\n",
      "\n"
     ]
    }
   ],
   "source": [
    "html = st.produce_scattertext_explorer(corpus, category='1', \n",
    "                                       category_name='Segment 1',  # for presentation only\n",
    "                                       not_category_name='2',\n",
    "                                       width_in_pixels=1000, \n",
    "                                       metadata=df['segment'])"
   ]
  },
  {
   "cell_type": "code",
   "execution_count": 89,
   "metadata": {},
   "outputs": [
    {
     "data": {
      "text/plain": [
       "2027066"
      ]
     },
     "execution_count": 89,
     "metadata": {},
     "output_type": "execute_result"
    }
   ],
   "source": [
    "open(\"segs.html\", 'wb').write(html.encode('utf-8'))"
   ]
  },
  {
   "cell_type": "code",
   "execution_count": 90,
   "metadata": {},
   "outputs": [],
   "source": [
    "feat_builder = st.FeatsFromOnlyEmpath()"
   ]
  },
  {
   "cell_type": "code",
   "execution_count": 91,
   "metadata": {},
   "outputs": [],
   "source": [
    "empath_corpus = st.CorpusFromParsedDocuments(df, \n",
    "                                             category_col='segment', \n",
    "                                             feats_from_spacy_doc=feat_builder, \n",
    "                                             parsed_col='text').build()"
   ]
  },
  {
   "cell_type": "code",
   "execution_count": 93,
   "metadata": {},
   "outputs": [],
   "source": [
    "html = st.produce_scattertext_explorer(empath_corpus, \n",
    "                                       category='1', \n",
    "                                       category_name='Segment 1',\n",
    "                                       not_category_name='Segment 2',\n",
    "                                       width_in_pixels=1000,\n",
    "                                       metadata=df['segment'],\n",
    "                                       use_non_text_features=True,\n",
    "                                       use_full_doc=True,\n",
    "                                       topic_model_term_lists=feat_builder.get_top_model_term_lists())"
   ]
  },
  {
   "cell_type": "code",
   "execution_count": 94,
   "metadata": {},
   "outputs": [
    {
     "data": {
      "text/plain": [
       "2409083"
      ]
     },
     "execution_count": 94,
     "metadata": {},
     "output_type": "execute_result"
    }
   ],
   "source": [
    "open(\"segs_empath.html\", 'wb').write(html.encode('utf-8'))"
   ]
  },
  {
   "cell_type": "code",
   "execution_count": 95,
   "metadata": {},
   "outputs": [
    {
     "name": "stderr",
     "output_type": "stream",
     "text": [
      "/Library/Frameworks/Python.framework/Versions/3.6/lib/python3.6/site-packages/scattertext/frequencyreaders/DefaultBackgroundFrequencies.py:30: FutureWarning:\n",
      "\n",
      "read_table is deprecated, use read_csv instead, passing sep='\\t'.\n",
      "\n"
     ]
    }
   ],
   "source": [
    "html = word_similarity_explorer(corpus,\n",
    "category='1',\n",
    "category_name='Segment 1',\n",
    "not_category_name='Segment 2',\n",
    "target_term='koala',\n",
    "minimum_term_frequency=5,\n",
    "pmi_threshold_coefficient=4,\n",
    "width_in_pixels=1000,\n",
    "metadata=df['segment'],\n",
    "alpha=0.01,\n",
    "max_p_val=0.05,\n",
    "save_svg_button=True)"
   ]
  },
  {
   "cell_type": "code",
   "execution_count": 96,
   "metadata": {},
   "outputs": [
    {
     "data": {
      "text/plain": [
       "2155644"
      ]
     },
     "execution_count": 96,
     "metadata": {},
     "output_type": "execute_result"
    }
   ],
   "source": [
    "open(\"similarity_koala.html\", 'wb').write(html.encode('utf-8'))"
   ]
  },
  {
   "cell_type": "code",
   "execution_count": null,
   "metadata": {},
   "outputs": [],
   "source": []
  }
 ],
 "metadata": {
  "kernelspec": {
   "display_name": "Python 3",
   "language": "python",
   "name": "python3"
  },
  "language_info": {
   "codemirror_mode": {
    "name": "ipython",
    "version": 3
   },
   "file_extension": ".py",
   "mimetype": "text/x-python",
   "name": "python",
   "nbconvert_exporter": "python",
   "pygments_lexer": "ipython3",
   "version": "3.6.8"
  }
 },
 "nbformat": 4,
 "nbformat_minor": 2
}
