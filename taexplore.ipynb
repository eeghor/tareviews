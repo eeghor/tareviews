{
 "cells": [
  {
   "cell_type": "code",
   "execution_count": 155,
   "metadata": {},
   "outputs": [],
   "source": [
    "import spacy\n",
    "import scattertext as st\n",
    "import spacy\n",
    "import json\n",
    "import pandas as pd\n",
    "from pprint import pprint\n",
    "from collections import Counter\n",
    "from itertools import chain\n",
    "\n",
    "from google.oauth2 import service_account\n",
    "from apiclient.discovery import build\n",
    "\n",
    "import googlemaps"
   ]
  },
  {
   "cell_type": "code",
   "execution_count": 159,
   "metadata": {},
   "outputs": [],
   "source": [
    "class T:\n",
    "    \n",
    "    def __init__(self):\n",
    "\n",
    "        self.r = json.load(open('data/perth/reviews_perth.json'))\n",
    "        self.u = json.load(open('data/perth/users_perth.json'))\n",
    "        self.a = json.load(open('data/perth/attractions_perth.json'))\n",
    "        \n",
    "        # calculate some stats\n",
    "        \n",
    "        u_names = {_['name'] for _ in self.u}\n",
    "        u_ages = [_['age'] for _ in self.u if _['age']]\n",
    "        u_gnds = [_['gender'] for _ in self.u if _['gender']]\n",
    "        u_tags = [_['tags'] for _ in self.u if _['tags']]\n",
    "        u_locs = [_['location'] for _ in self.u if _['location']]\n",
    "        \n",
    "        print(f'total users: {len(u_names):,}\\n{\"\".join([\"-\"]*19)}')\n",
    "        print(f'age: {len(u_ages)} ({100*len(u_ages)/len(u_names):.1f}%)')\n",
    "        print(f'gender: {len(u_gnds)} ({100*len(u_gnds)/len(u_names):.1f}%)')\n",
    "        print(f'tags: {len(u_tags)} ({100*len(u_tags)/len(u_names):.1f}%)')\n",
    "        print(f'locations: {len(u_locs)} ({100*len(u_locs)/len(u_names):.1f}%)')\n",
    "              \n",
    "        u_all_tags = [tg for tg in chain.from_iterable(u_tags)]\n",
    "        \n",
    "        print('\\nmost popular traveller tags:\\n')\n",
    "        for t, pct in [(t, round(100*c/len(u_names),1))  for t, c in Counter(u_all_tags).most_common()]:\n",
    "              print(f'{t}: {pct}%')\n",
    "              \n",
    "        self.gmaps = googlemaps.Client(key=open('creds/geocoding_api.key').readline().strip())\n",
    "              \n",
    "    def _fix_location(self, s):\n",
    "              \n",
    "        \"\"\"\n",
    "        using Google Geocoding API to clarify users location\n",
    "        \"\"\"\n",
    "              \n",
    "        geocode_result = gmaps.geocode(s)\n",
    "        \n",
    "        # take only the top result\n",
    "        if geocode_result:\n",
    "            res = geocode_result[0]\n",
    "        else:\n",
    "            print(f'geocoding api can\\'t find this location: {s}!')\n",
    "        \n",
    "        loc = {'location': res['formatted_address'],\n",
    "               'coordinates': res['geometry']['location'],\n",
    "               'locality': ''.join([_['long_name'] for _ in res['address_components'] if 'locality' in _['types']]),\n",
    "               'country': ''.join([_['long_name'] for _ in res['address_components'] if 'country' in _['types']])}\n",
    "              \n",
    "        return loc"
   ]
  },
  {
   "cell_type": "code",
   "execution_count": 160,
   "metadata": {},
   "outputs": [
    {
     "name": "stdout",
     "output_type": "stream",
     "text": [
      "total users: 11,773\n",
      "-------------------\n",
      "age: 4337 (36.8%)\n",
      "gender: 4246 (36.1%)\n",
      "tags: 2461 (20.9%)\n",
      "locations: 10517 (89.3%)\n",
      "\n",
      "most popular traveller tags:\n",
      "\n",
      "foodie: 10.7%\n",
      "like a local: 8.4%\n",
      "nature lover: 5.9%\n",
      "urban explorer: 5.9%\n",
      "history buff: 4.7%\n",
      "60+ traveller: 4.6%\n",
      "art and architecture lover: 4.5%\n",
      "peace and quiet seeker: 4.2%\n",
      "family holiday maker: 2.8%\n",
      "shopping fanatic: 2.6%\n",
      "luxury traveller: 2.6%\n",
      "thrill seeker: 2.5%\n",
      "beach goer: 2.2%\n",
      "thrifty traveller: 2.1%\n",
      "eco-tourist: 1.0%\n",
      "vegetarian: 0.9%\n",
      "nightlife seeker: 0.8%\n",
      "backpacker: 0.5%\n",
      "trendsetter: 0.3%\n"
     ]
    }
   ],
   "source": [
    "if __name__ == '__main__':\n",
    "    \n",
    "    t = T()"
   ]
  },
  {
   "cell_type": "code",
   "execution_count": 162,
   "metadata": {},
   "outputs": [
    {
     "data": {
      "text/plain": [
       "{'location': 'Hornsby NSW 2077, Australia',\n",
       " 'coordinates': {'lat': -33.70489999999999, 'lng': 151.09901},\n",
       " 'locality': 'Hornsby',\n",
       " 'country': 'Australia'}"
      ]
     },
     "execution_count": 162,
     "metadata": {},
     "output_type": "execute_result"
    }
   ],
   "source": [
    "t._fix_location('harnsby australia')"
   ]
  },
  {
   "cell_type": "code",
   "execution_count": 94,
   "metadata": {},
   "outputs": [],
   "source": [
    "name = []\n",
    "gender = []\n",
    "age = []\n",
    "\n",
    "for rec in t.u:\n",
    "    if rec['name'] and rec['gender']:\n",
    "        name.append(rec['name'].strip())\n",
    "        gender.append(rec['gender'])\n",
    "        \n",
    "user_df = pd.DataFrame({'name': name, \n",
    "                        'gender': gender})"
   ]
  },
  {
   "cell_type": "code",
   "execution_count": 95,
   "metadata": {},
   "outputs": [
    {
     "data": {
      "text/plain": [
       "name      4246\n",
       "gender    4246\n",
       "dtype: int64"
      ]
     },
     "execution_count": 95,
     "metadata": {},
     "output_type": "execute_result"
    }
   ],
   "source": [
    "user_df.count()"
   ]
  },
  {
   "cell_type": "code",
   "execution_count": 96,
   "metadata": {},
   "outputs": [],
   "source": [
    "by_user = []\n",
    "text = []\n",
    "rating = []\n",
    "\n",
    "for rec in t.r:\n",
    "    if rec['by_user'] and rec['text'] and rec['rating']:\n",
    "        by_user.append(rec['by_user'])\n",
    "        text.append(rec['text'])\n",
    "        rating.append(rec['rating'])\n",
    "review_df = pd.DataFrame({'by_user': by_user, \n",
    "                         'text': text,\n",
    "                         'rating': rating})"
   ]
  },
  {
   "cell_type": "code",
   "execution_count": 100,
   "metadata": {},
   "outputs": [],
   "source": [
    "get_ipython().config.get('IPKernelApp', {})['parent_appname'] = \"\""
   ]
  },
  {
   "cell_type": "code",
   "execution_count": 114,
   "metadata": {},
   "outputs": [],
   "source": [
    "df = review_df.join(user_df.set_index('name'), on='by_user').query('gender in (\"m\", \"f\")')[['gender', 'text']]"
   ]
  },
  {
   "cell_type": "code",
   "execution_count": 115,
   "metadata": {},
   "outputs": [
    {
     "data": {
      "text/html": [
       "<div>\n",
       "<style scoped>\n",
       "    .dataframe tbody tr th:only-of-type {\n",
       "        vertical-align: middle;\n",
       "    }\n",
       "\n",
       "    .dataframe tbody tr th {\n",
       "        vertical-align: top;\n",
       "    }\n",
       "\n",
       "    .dataframe thead th {\n",
       "        text-align: right;\n",
       "    }\n",
       "</style>\n",
       "<table border=\"1\" class=\"dataframe\">\n",
       "  <thead>\n",
       "    <tr style=\"text-align: right;\">\n",
       "      <th></th>\n",
       "      <th>gender</th>\n",
       "      <th>text</th>\n",
       "    </tr>\n",
       "  </thead>\n",
       "  <tbody>\n",
       "    <tr>\n",
       "      <th>0</th>\n",
       "      <td>m</td>\n",
       "      <td>This is large open park with many well kept wa...</td>\n",
       "    </tr>\n",
       "    <tr>\n",
       "      <th>3</th>\n",
       "      <td>m</td>\n",
       "      <td>Kings Park is the must see attraction in Perth...</td>\n",
       "    </tr>\n",
       "    <tr>\n",
       "      <th>7</th>\n",
       "      <td>m</td>\n",
       "      <td>When we visited the park we didn’t have time t...</td>\n",
       "    </tr>\n",
       "    <tr>\n",
       "      <th>9</th>\n",
       "      <td>f</td>\n",
       "      <td>My husband and I biked along the water and too...</td>\n",
       "    </tr>\n",
       "    <tr>\n",
       "      <th>11</th>\n",
       "      <td>m</td>\n",
       "      <td>We first went through the Park on the hop on -...</td>\n",
       "    </tr>\n",
       "  </tbody>\n",
       "</table>\n",
       "</div>"
      ],
      "text/plain": [
       "   gender                                               text\n",
       "0       m  This is large open park with many well kept wa...\n",
       "3       m  Kings Park is the must see attraction in Perth...\n",
       "7       m  When we visited the park we didn’t have time t...\n",
       "9       f  My husband and I biked along the water and too...\n",
       "11      m  We first went through the Park on the hop on -..."
      ]
     },
     "execution_count": 115,
     "metadata": {},
     "output_type": "execute_result"
    }
   ],
   "source": [
    "df.head()"
   ]
  },
  {
   "cell_type": "code",
   "execution_count": 116,
   "metadata": {},
   "outputs": [],
   "source": [
    "nlp = spacy.load('en')"
   ]
  },
  {
   "cell_type": "code",
   "execution_count": 117,
   "metadata": {},
   "outputs": [],
   "source": [
    "corpus = st.CorpusFromPandas(df, category_col='gender', text_col='text', nlp=nlp).build()"
   ]
  },
  {
   "cell_type": "code",
   "execution_count": 118,
   "metadata": {},
   "outputs": [],
   "source": [
    "term_freq_df = corpus.get_term_freq_df()\n",
    "term_freq_df['females'] = corpus.get_scaled_f_scores('f')\n",
    "term_freq_df['males'] = corpus.get_scaled_f_scores('m')"
   ]
  },
  {
   "cell_type": "code",
   "execution_count": 119,
   "metadata": {},
   "outputs": [
    {
     "name": "stdout",
     "output_type": "stream",
     "text": [
      "['lovely',\n",
      " 'gorgeous',\n",
      " 'a lovely',\n",
      " 'children',\n",
      " 'love',\n",
      " 'play',\n",
      " 'enjoyed',\n",
      " 'loved',\n",
      " 'a picnic',\n",
      " 'picnic']\n"
     ]
    }
   ],
   "source": [
    "pprint(list(term_freq_df.sort_values(by='females', ascending=False).index[:10]))"
   ]
  },
  {
   "cell_type": "code",
   "execution_count": 120,
   "metadata": {},
   "outputs": [
    {
     "name": "stdout",
     "output_type": "stream",
     "text": [
      "['cbd',\n",
      " 'world',\n",
      " 'the world',\n",
      " 'australia',\n",
      " 'great views',\n",
      " 'coins',\n",
      " 'centre',\n",
      " 'a good',\n",
      " 'down',\n",
      " 'excellent']\n"
     ]
    }
   ],
   "source": [
    "pprint(list(term_freq_df.sort_values(by='males', ascending=False).index[:10]))"
   ]
  },
  {
   "cell_type": "code",
   "execution_count": 122,
   "metadata": {},
   "outputs": [
    {
     "name": "stderr",
     "output_type": "stream",
     "text": [
      "/Library/Frameworks/Python.framework/Versions/3.6/lib/python3.6/site-packages/scattertext/frequencyreaders/DefaultBackgroundFrequencies.py:30: FutureWarning: read_table is deprecated, use read_csv instead, passing sep='\\t'.\n",
      "  names=['word', 'background'])\n"
     ]
    }
   ],
   "source": [
    "html = st.produce_scattertext_explorer(corpus, category='f',category_name='female', \n",
    "                                       not_category_name='male', width_in_pixels=1000, metadata=df['gender'])"
   ]
  },
  {
   "cell_type": "code",
   "execution_count": 124,
   "metadata": {},
   "outputs": [
    {
     "data": {
      "text/plain": [
       "3011462"
      ]
     },
     "execution_count": 124,
     "metadata": {},
     "output_type": "execute_result"
    }
   ],
   "source": [
    "open(\"kings_park_viz.html\", 'wb').write(html.encode('utf-8'))"
   ]
  }
 ],
 "metadata": {
  "kernelspec": {
   "display_name": "Python 3",
   "language": "python",
   "name": "python3"
  },
  "language_info": {
   "codemirror_mode": {
    "name": "ipython",
    "version": 3
   },
   "file_extension": ".py",
   "mimetype": "text/x-python",
   "name": "python",
   "nbconvert_exporter": "python",
   "pygments_lexer": "ipython3",
   "version": "3.6.8"
  }
 },
 "nbformat": 4,
 "nbformat_minor": 2
}
